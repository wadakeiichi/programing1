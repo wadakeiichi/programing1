{
 "cells": [
  {
   "cell_type": "markdown",
   "id": "09cab23c",
   "metadata": {},
   "source": [
    "# 1-1. 数値演算"
   ]
  },
  {
   "cell_type": "markdown",
   "id": "edfd0862",
   "metadata": {},
   "source": [
    "**問題 1**\n",
    "\n",
    "Pythonでは、`/`演算子と`//`演算子の違いは何ですか？"
   ]
  },
  {
   "cell_type": "markdown",
   "id": "dd8b65c8",
   "metadata": {},
   "source": [
    "**問題 2**\n",
    "\n",
    "次のPythonコードを実行した場合の出力を答えてください。"
   ]
  },
  {
   "cell_type": "code",
   "execution_count": null,
   "id": "630c740f",
   "metadata": {},
   "outputs": [],
   "source": [
    "print(10 / 3)\n",
    "print(10 // 3)\n",
    "print(10 % 3)"
   ]
  },
  {
   "cell_type": "markdown",
   "id": "9827adfd",
   "metadata": {},
   "source": [
    "**問題 3**\n",
    "\n",
    "`**`演算子を使用して、2の5乗を計算するPythonコードを書いてください。"
   ]
  },
  {
   "cell_type": "code",
   "execution_count": null,
   "id": "c9a8dd3b",
   "metadata": {},
   "outputs": [],
   "source": [
    "# ここにコードを書いてください\n"
   ]
  },
  {
   "cell_type": "markdown",
   "id": "42ded77a",
   "metadata": {},
   "source": [
    "# 1-2. 変数と関数の基礎"
   ]
  },
  {
   "cell_type": "markdown",
   "id": "46059208",
   "metadata": {},
   "source": [
    "**問題 4**\n",
    "\n",
    "Pythonにおいて、変数を定義する際の基本的なルールを3つ挙げてください。"
   ]
  },
  {
   "cell_type": "markdown",
   "id": "fc2dbe23",
   "metadata": {},
   "source": [
    "**問題 5**\n",
    "\n",
    "次の関数`multiply`は、2つの引数を受け取り、その積を返します。この関数を定義してください。"
   ]
  },
  {
   "cell_type": "code",
   "execution_count": null,
   "id": "7204dd92",
   "metadata": {},
   "outputs": [],
   "source": [
    "# multiply関数を定義してください\n"
   ]
  },
  {
   "cell_type": "markdown",
   "id": "379c35af",
   "metadata": {},
   "source": [
    "**問題 6**\n",
    "\n",
    "以下のコードを実行した場合、出力される値は何ですか？"
   ]
  },
  {
   "cell_type": "code",
   "execution_count": null,
   "id": "3f7e3967",
   "metadata": {},
   "outputs": [],
   "source": [
    "def add_five(x):\n",
    "    x = x + 5\n",
    "    return x\n",
    "\n",
    "y = 10\n",
    "add_five(y)\n",
    "print(y)"
   ]
  },
  {
   "cell_type": "markdown",
   "id": "7013f65f",
   "metadata": {},
   "source": [
    "# 1-3. 論理・比較演算と条件分岐の基礎"
   ]
  },
  {
   "cell_type": "markdown",
   "id": "890e62ea",
   "metadata": {},
   "source": [
    "**問題 7**\n",
    "\n",
    "次の比較演算子の意味を説明してください。\n",
    "\n",
    "- `==`\n",
    "- `!=`\n",
    "- `>`\n",
    "- `<`"
   ]
  },
  {
   "cell_type": "markdown",
   "id": "6083fab4",
   "metadata": {},
   "source": [
    "**問題 8**\n",
    "\n",
    "以下のコードを実行した場合、出力される結果は何ですか？"
   ]
  },
  {
   "cell_type": "code",
   "execution_count": null,
   "id": "9f1ae35d",
   "metadata": {},
   "outputs": [],
   "source": [
    "a = 15\n",
    "b = 20\n",
    "if a > b:\n",
    "    print(\"a is greater than b\")\n",
    "elif a < b:\n",
    "    print(\"a is less than b\")\n",
    "else:\n",
    "    print(\"a is equal to b\")"
   ]
  },
  {
   "cell_type": "markdown",
   "id": "285e11f1",
   "metadata": {},
   "source": [
    "**問題 9**\n",
    "\n",
    "変数`num`が偶数か奇数かを判定し、それぞれ「偶数です」「奇数です」と出力するPythonコードを書いてください。"
   ]
  },
  {
   "cell_type": "code",
   "execution_count": null,
   "id": "0b5aec1a",
   "metadata": {},
   "outputs": [],
   "source": [
    "# numに値を代入して、偶奇判定を行ってください\n"
   ]
  }
 ],
 "metadata": {},
 "nbformat": 4,
 "nbformat_minor": 5
}
